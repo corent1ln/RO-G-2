{
  "nbformat": 4,
  "nbformat_minor": 0,
  "metadata": {
    "colab": {
      "provenance": []
    },
    "kernelspec": {
      "name": "python3",
      "display_name": "Python 3"
    },
    "language_info": {
      "name": "python"
    }
  },
  "cells": [
    {
      "cell_type": "markdown",
      "source": [
        "# Livrable 1 : Équipe 2\n",
        "Willy Carlot(Chef de projet), Corentin Le Nozahic, Leo Vauthier, Ilias Tragha\n",
        "---\n",
        "\n"
      ],
      "metadata": {
        "id": "gykX9VuuI1uu"
      }
    },
    {
      "cell_type": "markdown",
      "source": [
        "# Contexte\n",
        "\n",
        "L’ADEME (Agence de l’Environnement et de la Maîtrise de l’Energie) a récemment lancé un appel à manifestation d’intérêt pour promouvoir la réalisation de démonstrateurs et d’expérimentations de nouvelles solutions de mobilité pour les personnes et les marchandises adaptees à différents types de territoires.\n",
        "\n",
        "Notre structure CesiCDP est déjà bien implantée dans le domaine. Aidé de nombreux partenaires, Nous avons réalisés plusieurs études sur le thème de la Mobilité Multimodale Intelligente. Les nouvelles technologies de transport, plus économiques et moins polluantes ne sont pas sans poser de nouveaux défis notamment d’un point de vue de l’optimisation de la gestion des ressources. Mais ces problèmes de logistique du transport présentent un enjeu majeur pour l’avenir : ses applications sont nombreuses (distribution du courrier, livraison de produits, traitement du réseau routier, ramassage des ordures) et leur impact sur l’environnement peut être véritablement significatif.\n",
        "\n",
        "Nous faisons partie de l’équipe mise en place par CesiCDP pour répondre à l’appel de l’ADEME. L’enjeu est d’obtenir de nouveaux marchés avec des financements très intéressants pour continuer à développer notre activité.\n",
        "\n",
        "\n",
        "Autrement dit, dans une ère de transition écologie,réduire les émissions de gaz à effet de serre, la congestion urbaine et l'optimisation des ressources liés à la mobilité des personnes et des marchandises sont des defis cruciaux.\n",
        "\n",
        "Notre structure **CESICDP**, proposons une solution d'optimisation des tournées de véhicules pour minimiser **les** distances parcourues, réduire les coûts logistiques et diminuer l'impact environnemental."
      ],
      "metadata": {
        "id": "KDN-Uy2M_QqS"
      }
    },
    {
      "cell_type": "markdown",
      "source": [
        "# Objectif\n",
        "\n",
        "L'objectif de ce projet est de calculer des tournées optimales pour un ou plusieurs véhicules visitant un ensemble de villes avant de retourner au dépot initial, tout en minimisant la distance total.\n"
      ],
      "metadata": {
        "id": "_sR2-JLUZgUn"
      }
    },
    {
      "cell_type": "markdown",
      "source": [
        "# Modélisation du problème\n",
        "\n",
        "Dans l’objectif de limiter les déplacements et la consommation des véhicules, il est nécessaire de modéliser notre problème. Afin de se rapprocher le plus possible de la réalité lors de nos résultats, nous avons choisi de représenter sous la forme d’un graphe $G = (V, E)$ la situation d’une ville connue, **Rouen**, avec :\n",
        "\n",
        "- $V$ : l’ensemble des **sommets** représentant les intersections de la ville ;\n",
        "- $E$ : l’ensemble des **arêtes** représentant les routes entre ces intersections.\n",
        "\n",
        "*Dans le but d'évaluer, prouver et déterminer les limites de notre solution sur des villes plus ou moins denses, avec un grand ou un petit nombre de sommets, nous serons probablement amenés à générer artificiellement des villes*\n",
        "\n",
        "Sur ce graphe $G$, les intersections sont donc représentées sous forme de sommets, tandis que les routes figureront sous forme d’arêtes.\n",
        "\n",
        "Dans le cadre de l’amélioration continue, nous avons choisi de prendre en compte deux contraintes :\n",
        "\n",
        "- **$C1$** : la distance entre les intersections, exprimée par une **pondération** $w : E \\rightarrow \\mathbb{R}_+$ associée à chaque arête du graphe ;\n",
        "- **$C2$** : la prise en compte d’un **nombre multiple de camions** $n_V$, permettant de faire plusieurs sous-tournées multi-tours plutôt qu’une seule tournée unique.\n",
        "\n",
        "L’objectif de cette etude est de se rapprocher le plus possible d’une **solution viable** ( solution qui s’exécute dans un temps raisonnable ) et **optimisée** ( qui minimise la **somme totale des arêtes parcourues** par l’ensemble des véhicules ), permettant à un ensemble $n_V$ de véhicules de visiter **l’ensemble des points marqués** ( nœuds à desservir ) $M$, tout en revenant au point de départ ( dépot ) $D$.\n",
        "\n",
        "Dans le cadre de notre étude, nous cherchons un ensemble de sommets :\n",
        "\n",
        "\n",
        "$TV_0, TV_1, \\dots, TV_n$\n",
        "\n",
        "Décrivant les routes suivies par chaque véhicule, que nous notons globalement $TV$.\n",
        "\n",
        "Dans le cadre de cett étude nous représentons le problème comme suit :\n",
        "\n",
        "- $n_v$ : le nombre de véhicules disponibles\n",
        "- $G = (V, E)$, avec $w : E \\rightarrow \\mathbb{R}_+$ la fonction de coût associée aux distances\n",
        "- $D \\subseteq V$ : le dépôt (point de départ et d’arrivée de tous les véhicules)\n",
        "- $M_v \\subseteq V$ : l'ensemble des sommets à visiter avec un véhicule pour avoir une solution valide\n",
        "- $TV_n \\subseteq V$, la route du véhicule $n_v \\in \\{1, ..., n_V\\}$, dont la route commence et se termine par son point de départ $D$\n",
        "- Chaque sommet $M_v \\subseteq V \\setminus \\{D\\}$ est visité **exactement une fois** par un unique véhicule (Sauf $D$).\n",
        "- $k$ est le cardinal de notre graphe\n",
        "Nous cherchons un ensemble de tournées $\\{TV_1, ..., TV_{n}\\}$ tel que:\n",
        "\n",
        "- $\\sum_{k=1}^{n_v} TV$ contienne l'ensemble des sommets $Mv$\n",
        "\n",
        "Et que le coût total $w(i, j)$:\n",
        "\n",
        "- $\\sum_{k=1}^{n_v} TV \\min \\sum_{k=TV_1}^{TV_n} w(i, j)$ soit minimisé.\n"
      ],
      "metadata": {
        "id": "yHemulPdpSvd"
      }
    },
    {
      "cell_type": "markdown",
      "source": [
        "# Complexité\n",
        "\n",
        "## Problème sans contrainte\n",
        "## Prouver que notre problème est NP-complet (sans contraintes)\n",
        "### 1.Montrer que le résultat est vérifiable en un temps polynomiale (sans contraintes)\n",
        "Il faut que notre problème soit dans NP(Non déterministe polynomiale). Il faut que l'algorithme de vérificarion d'une solution $S_{tsp}$ s'exécute dans un temps polynomiale\n",
        "\n",
        "Pseudo-algorithme pour $S_{tsp} = \\{TV_1, TV_2,...,TV_n \\}$\n",
        "\n",
        "* Longueur de la chaine $O(n)$\n",
        "* unicite des sommets(points de livraisons)$O(n)$\n",
        "* lien existant entre chaque couple $O(n)$\n",
        "* point de départ = point d'arrivée $O(1)$\n",
        "* verifier cout < k $O(1)$\n",
        "\n",
        "Donc l'instance de solution de notre problème est vérifiable dans un temps polynomiale.\n",
        "\n",
        "### 2. Faire la réduction polynomiale de notre Problème vers un problème NP-complet (sans contraintes)\n",
        "\n",
        "D'après le cycle hamiltonien :\n",
        "- Le graphe $G$ possède un cycle hamiltonien si et seulement s’il existe un cycle dans $G$ passant par tous les sommets exactement une fois, et ayant une longueur 0(c’est-à-dire, s’il existe une solution à l’instance du problème du voyageur de commerce ).\n",
        "\n",
        "- S’il existe un cycle qui passe par tous les sommets exactement une fois, et qui a une longueur 0 dans $G$, alors ce cycle ne contient que des arêtes qui étaient présentes à l’origine dans le graphe G. (Les nouvelles arêtes ajoutées dans $G$ ont un poids > 0 et ne peuvent donc pas faire partie d’un cycle de longueur 0.)\n",
        "\n",
        "S’il existe un cycle hamiltonien dans $G$, alors ce cycle forme un cycle dans $G$ de longueur 0, puisque les poids de toutes ses arêtes est inférieur à $k$.\n",
        "Il existe donc une solution au problème du voyageur de commerce dans $G$ avec une longueur 0.\n",
        "\n",
        "Notre problème est celui décrit par William Rowan Hamilton et Thomas Kirkman\n",
        "Comme étant Le **Problème du voyageur**.Ce problème est réductible polynomialement au problème du *Cycle hamiltonien* car d'après le problème du voyageur :\n",
        "\n",
        "- Il est possible de transformer notre graphe $G$ comportant l'ensemble des sommets à parcourir, de chercher à parcourir l'ensemble des sommets en revenant au point de départ et de minimiser le coût $w$ de l'ensemble des arrêtes parcourues.\n",
        "\n",
        "Notre problème est donc au moins aussi difficile que le problème du cycle hamiltonien.\n",
        "\n",
        "<br>\n",
        "\n",
        "> *En 1971, l'informaticien et mathématicien Stephan Cook à publié un article dans lequel il montre le premier problème NP-Complet : le problème SAT. <br><br>\n",
        "C'est à partir de cet ouvrage que Richard M. Karp à démontré la NP-complétude de 21 problèmes dans son article \"Reductibility Among Combinatorial Problems\" publié en 1972. <br><br>\n",
        "Le problème du cycle hamiltonien fait partie de ces 21 problèmes, on sait donc qu'il est NP-Complet et que par conséquent notre problème est bien NP-complet.*\n",
        "\n",
        "<br>\n",
        "\n",
        "## Problème avec contraintes\n",
        "## Prouver que notre problème est NP-complet (avec contraintes)\n",
        "### 1.Montrer que le résultat est vérifiable en un temps polynomiale (avec contraintes)\n",
        "Il faut que notre problème(avec contraintes) soit dans NP(Non déterministe polynomiale). Il faut que l'algorithme de vérificarion d'une solution $S_{tsp}$ s'exécute dans un temps polynomiale\n",
        "\n",
        "Pseudo-algorithme pour $S_{tsp} = \\{TV_1, TV_2,...,TV_n \\}$\n",
        "\n",
        "* Longueur des chaines des véhicules additionnés $O(n)$\n",
        "* unicite des sommets(points de livraisons) $O(n)$\n",
        "* lien existant entre chaque couple$ $O(n)$\n",
        "* point de départ = point d'arrivée pour tous les véhicules $O(1)$\n",
        "* verifier cout $w \\le k$ pour tous les véhicules $O(1)$\n",
        "\n",
        "Donc l'instance de solution de notre problème est vérifiable dans un temps polynomiale.\n",
        "\n",
        "### 2. Faire la réduction polynomiale de notre Problème vers un problème NP-complet (avec contraintes)\n",
        "\n",
        "Notre problème est celui décrit par William Rowan Hamilton et Thomas Kirkman\n",
        "Comme étant Le **Problème du voyageur(TSP incomplet)**.Ce problème est réductible polynomialement au problème du *Cycle hamiltonien* car d'après le\n",
        "De plus d'après le TSP précédent  :\n",
        "- Le graphe $G$ possède un cycle hamiltonien si et seulement s’il existe un cycle dans $G$ passant par tous les sommets exactement une fois, et ayant une longueur $w \\le k$ (c’est-à-dire, s’il existe une solution à l’instance du problème du voyageur de commerce ).\n",
        "\n",
        "- S’il existe un cycle qui passe par tous les sommets exactement une fois, et qui a une longueur $w$ dans $G$, alors ce cycle ne contient que des arêtes qui étaient présentes à l’origine dans le graphe G. (Les nouvelles arêtes ajoutées dans $G$ ont un poids de $Big(M)$(qui surpasse $k$) et ne peuvent donc pas faire partie d’un cycle de longueur $w \\le k$.)\n",
        "\n",
        "problème du voyageur(incomplet) :\n",
        "\n",
        "- Il est possible de transformer notre graphe $G$ comportant l'ensemble des sommets à parcourir, de chercher à parcourir l'ensemble des sommets en revenant au point de départ et de minimiser le coût $w$ de l'ensemble des arrêtes parcourues.\n",
        "- Dans notre situation, nous avons accès à plusieurs véhicules donc la solution est un ensemble d'instances de TSP qui regroupés dans un ensemble $big(TSP)$ ne contient jamais deux fois le même sommets.\n",
        "\n",
        "S’il existe un cycle hamiltonien dans $G$, alors ce cycle forme un cycle dans $G$ de longueur $w \\le k$, puisque les poids de toutes ses arêtes est inférieur à $k$.\n",
        "Il existe donc une solution au problème du voyageur de commerce dans $G$ avec une longueur $w \\le k$.\n",
        "\n",
        "On sait que d'après notre démonstration précédente que le TSP avec une .\n",
        "\n",
        "Donc notre problème TSP incomplet avec plusieurs véhicule est bien NP-complet.\n",
        "\n"
      ],
      "metadata": {
        "id": "f3RM1sHxHURE"
      }
    },
    {
      "cell_type": "markdown",
      "source": [
        "# Conclusion\n"
      ],
      "metadata": {
        "id": "Ud8XAhSLOHh4"
      }
    },
    {
      "cell_type": "markdown",
      "source": [
        "En conlusion, au cours de cette étude nous avons démontré que notre Problème est bien inclu dans NP-complet même en prennant en compte l'ajout de nos contraintes $C1$ et $C2$.Dans le prochain livrable nous aborderons les méthodes et algorithmes de résolutions possibles pour optimiser le temps de trajet des véhicules de L'ADEME."
      ],
      "metadata": {
        "id": "pQa5elsb_L07"
      }
    },
    {
      "cell_type": "markdown",
      "source": [
        "# Bibliographie\n",
        "* [TSP wiki](https://fr.wikipedia.org/wiki/Probl%C3%A8me_du_voyageur_de_commerce)\n",
        "* [(TSP) exemple](https://docs.mosek.com/latest/dotnetfusion/case-studies-tsp.html)\n",
        "* [VRP](https://fr.wikipedia.org/wiki/Probl%C3%A8me_de_tourn%C3%A9es_de_v%C3%A9hicules)\n",
        "\n",
        "* [Réductions polynomiales](https://datamove.imag.fr/denis.trystram/SupportsDeCours/lesson4reductions.pdf)\n",
        "\n",
        "* [Les 21 problèmes NP-complets de Karp](https://fr.wikipedia.org/wiki/21_probl%C3%A8mes_NP-complets_de_Karp)\n",
        "\n",
        "* [The Complexity of Theorem-Proving Procedures](https://www.inf.unibz.it/~calvanese/teaching/14-15-tc/material/cook-1971-NP-completeness-of-SAT.pdf)\n",
        "\n",
        "* [REDUCIBILITY AMONG COMBINATORIAL PROBLEM](https://cgi.di.uoa.gr/~sgk/teaching/grad/handouts/karp.pdf)\n",
        "\n",
        "\n",
        "\n"
      ],
      "metadata": {
        "id": "ET2z6_v6Ijot"
      }
    }
  ]
}