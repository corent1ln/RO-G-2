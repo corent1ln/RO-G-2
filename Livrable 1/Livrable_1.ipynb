{
 "cells": [
  {
   "cell_type": "markdown",
   "id": "24ec5990",
   "metadata": {},
   "source": [
    "# <p align=\"center\">Livrable 1</p>\n",
    "\n",
    "## table des matières\n",
    "\n",
    "* [Contexte](##Contexte)\n",
    "* [test](##Problematique)\n",
    "## Contexte\n",
    "Suite à l'appel d'offres de l’ADEME, nous, CesiCDP, devons proposer une solution centrée sur la mobilité intelligente des marchandises, afin de réduire le temps de trajet, le nombre de kilomètres à parcourir, l'usure des véhicules, la consommation de carburant et par conséquent les émissions de gaz.\n",
    "\n",
    "## Problematique\n",
    "\n",
    "Le projet vise à optimiser les tournées de livraison sur un réseau routier, dans une optique de mobilité multimodale intelligente, afin de **réduire la consommation d'énergie et les émissions polluantes**. Il s'agit de déterminer une ou plusieurs tournées reliant un ensemble de villes, avec retour au point de départ, tout en minimisant la durée et la distance totale parcourue.\n",
    "\n",
    "Le problème est une généralisation du problème du voyageur de commerce (**TSP**) et du problème de tournées de véhicules (**VRP**).\n",
    "## Contrainte\n",
    "\n",
    "* Utilisation de plusieurs véhicules (VRP)\n",
    "* Coût ou restriction de passage sur certaines arêtes (TSP asymetrique)\n",
    "\n",
    "## Bibliographie\n",
    "* [TSP](https://fr.wikipedia.org/wiki/Probl%C3%A8me_du_voyageur_de_commerce)\n",
    "* [VRP](https://fr.wikipedia.org/wiki/Probl%C3%A8me_de_tourn%C3%A9es_de_v%C3%A9hicules)\n"
   ]
  }
 ],
 "metadata": {
  "kernelspec": {
   "display_name": "Python 3",
   "language": "python",
   "name": "python3"
  },
  "language_info": {
   "codemirror_mode": {
    "name": "ipython",
    "version": 3
   },
   "file_extension": ".py",
   "mimetype": "text/x-python",
   "name": "python",
   "nbconvert_exporter": "python",
   "pygments_lexer": "ipython3",
   "version": "3.10.11"
  }
 },
 "nbformat": 4,
 "nbformat_minor": 5
}
